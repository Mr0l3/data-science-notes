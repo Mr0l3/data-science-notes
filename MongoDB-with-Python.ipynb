{
 "cells": [
  {
   "cell_type": "markdown",
   "id": "c8f46f76-f46b-4671-9722-1f2ca5092b2d",
   "metadata": {},
   "source": [
    "# MongoDB with Python Notes"
   ]
  },
  {
   "cell_type": "code",
   "execution_count": null,
   "id": "4af844ea-fc36-46ac-a7e4-a839622b4e5a",
   "metadata": {},
   "outputs": [],
   "source": [
    "# Install MongoDB package\n",
    "!pip install pymongo"
   ]
  },
  {
   "cell_type": "code",
   "execution_count": null,
   "id": "5eb1edc4-3b84-4ba4-a08f-bfbf0e3f2e04",
   "metadata": {},
   "outputs": [],
   "source": [
    "import pymongo"
   ]
  },
  {
   "cell_type": "markdown",
   "id": "22e6423c-da61-4360-b06b-7065617ec932",
   "metadata": {},
   "source": [
    "## Connecting to MongoDB"
   ]
  },
  {
   "cell_type": "code",
   "execution_count": null,
   "id": "36d2fa24-d752-414a-b8d0-be9f1a01ead9",
   "metadata": {},
   "outputs": [],
   "source": [
    "# Connect to service (default ip and port are localhost and 27017, respectively)\n",
    "\n",
    "conn = pymongo.MongoClient()"
   ]
  },
  {
   "cell_type": "markdown",
   "id": "ef49577e-8e87-4c91-8fe4-f7866c81411f",
   "metadata": {},
   "source": [
    "## Creating a database"
   ]
  },
  {
   "cell_type": "code",
   "execution_count": null,
   "id": "d4a7635b-7f47-4951-a053-92a24f84ef85",
   "metadata": {},
   "outputs": [],
   "source": [
    "# Create a database called clients\n",
    "# Note: the databases and collections are created AFTER the first document is created\n",
    "\n",
    "shopDB = conn.shop"
   ]
  },
  {
   "cell_type": "markdown",
   "id": "d80d1115-8244-4e85-873c-08b47902bea6",
   "metadata": {
    "tags": []
   },
   "source": [
    "## Creating a collection"
   ]
  },
  {
   "cell_type": "markdown",
   "id": "27fbf9e7-bade-4e91-9c4e-eaa5bbfb9558",
   "metadata": {},
   "source": [
    "Collections can be related with the tables, in the SQL world.\n",
    "Collections store documents.\n",
    "These documents are stored in MongoDB in JSON format. JSON documents support embedded fields, so related data and lists of data can be stored with the document instead of an external table."
   ]
  },
  {
   "cell_type": "code",
   "execution_count": null,
   "id": "9efd0e88-d44f-46e5-8cf9-a8d9ddb21c41",
   "metadata": {},
   "outputs": [],
   "source": [
    "clien_colle = shopDB.clients"
   ]
  },
  {
   "cell_type": "markdown",
   "id": "ae4a6a4d-59dc-4823-a610-68d52ef4b875",
   "metadata": {},
   "source": [
    "## Inserting data"
   ]
  },
  {
   "cell_type": "code",
   "execution_count": null,
   "id": "365f8b44-fce3-4ea9-a902-986692a2914d",
   "metadata": {},
   "outputs": [],
   "source": [
    "from datetime import datetime"
   ]
  },
  {
   "cell_type": "markdown",
   "id": "291c2dbf-4e1c-492c-87be-dd9f8b936647",
   "metadata": {},
   "source": [
    "### Inserting one document"
   ]
  },
  {
   "cell_type": "code",
   "execution_count": null,
   "id": "da49634f-76e7-4c0b-97b4-2dc4494b9840",
   "metadata": {},
   "outputs": [],
   "source": [
    "data = {'prod_name': 'TV', \n",
    "        'brands': ['Samsung', 'Panasonic', 'LG'], \n",
    "        'regis_date': datetime.utcnow()}"
   ]
  },
  {
   "cell_type": "code",
   "execution_count": null,
   "id": "da11da01-27d7-4c21-afa1-39b094db32ec",
   "metadata": {},
   "outputs": [],
   "source": [
    "# MongoDB automatically creates an ID for each document (_id)\n",
    "# insert_one method returns an InsertOneResult object\n",
    "# inserted_id return the id of the inserted document\n",
    "\n",
    "inserted_id = clien_colle.insert_one(data).inserted_id"
   ]
  },
  {
   "cell_type": "code",
   "execution_count": null,
   "id": "74a45f7e-3f9b-4042-9f10-d05edb467675",
   "metadata": {},
   "outputs": [],
   "source": [
    "inserted_id"
   ]
  },
  {
   "cell_type": "markdown",
   "id": "1156594c-3202-4203-a645-a7b9fb997747",
   "metadata": {},
   "source": [
    "### Inserting many documents"
   ]
  },
  {
   "cell_type": "code",
   "execution_count": null,
   "id": "781eed9a-2f62-4264-90e1-c88e7ee830e2",
   "metadata": {},
   "outputs": [],
   "source": [
    "# To insert many documents, we have to provide a list with the dictionaries\n",
    "\n",
    "data = [\n",
    "    {\n",
    "        'prod_name': 'Freezer',\n",
    "        'brands': ['Brastemp', 'Consul', 'Electrolux'],\n",
    "        'regis_date': datetime.utcnow()\n",
    "    }, \n",
    "    {\n",
    "        'prod_name': 'Smartphone', \n",
    "        'brands': ['iPhone', 'Xiaomi', 'Samsung'], \n",
    "        'regis_date': datetime.utcnow()\n",
    "    }, \n",
    "    {\n",
    "        'prod_name': 'Laptop', \n",
    "        'brands': ['ASUS', 'DELL', 'HP', 'Samsung'], \n",
    "        'regis_date': datetime.utcnow()\n",
    "    }\n",
    "]"
   ]
  },
  {
   "cell_type": "code",
   "execution_count": null,
   "id": "4a86befa-296d-42fb-93ad-2021eaa4653b",
   "metadata": {},
   "outputs": [],
   "source": [
    "# insert_one method returns an InsertManyResult object\n",
    "# inserted_ids return a list with the ids of the inserted documents\n",
    "\n",
    "inserted_ids = clien_colle.insert_many(data).inserted_ids"
   ]
  },
  {
   "cell_type": "code",
   "execution_count": null,
   "id": "f08b6a84-8df3-408b-93c0-b1020d3fd81d",
   "metadata": {},
   "outputs": [],
   "source": [
    "inserted_ids"
   ]
  },
  {
   "cell_type": "markdown",
   "id": "68637db7-a0fb-409b-a833-d6822be078fa",
   "metadata": {},
   "source": [
    "## Query Documents"
   ]
  },
  {
   "cell_type": "markdown",
   "id": "0cc70c48-93ed-4ec8-b77a-1df02af26159",
   "metadata": {},
   "source": [
    "In MongoDB we use the find and findOne methods to find data in a collection.\n",
    "\n",
    "Just like the SELECT statement is used to find data in a table in a MySQL database."
   ]
  },
  {
   "cell_type": "markdown",
   "id": "5519ba13-2fb0-4c3b-953b-317ef813ee1b",
   "metadata": {},
   "source": [
    "### Find One"
   ]
  },
  {
   "cell_type": "markdown",
   "id": "f433474d-f3e5-4418-b30a-cdd31acfc389",
   "metadata": {},
   "source": [
    "Return the first occurrence in the selection, similar to LIMIT 1 in SQL world"
   ]
  },
  {
   "cell_type": "code",
   "execution_count": null,
   "id": "76ed625a-5bb6-4932-89f8-01cd185a2e1f",
   "metadata": {},
   "outputs": [],
   "source": [
    "data = clien_colle.find_one()\n",
    "data"
   ]
  },
  {
   "cell_type": "markdown",
   "id": "49fd2472-0b05-4715-baca-6dd8a4b2fa8e",
   "metadata": {},
   "source": [
    "### Find"
   ]
  },
  {
   "cell_type": "markdown",
   "id": "d7eb0647-1223-4a60-9463-d68e824d875a",
   "metadata": {},
   "source": [
    "The find() method returns all occurrences in the selection.\n",
    "\n",
    "The first parameter of the find() method is a query object. In this example we use an empty query object, which selects all documents in the collection.\n",
    "\n",
    "No parameters in the find() method gives you the same result as SELECT * in MySQL.\n"
   ]
  },
  {
   "cell_type": "code",
   "execution_count": null,
   "id": "f0196bfd-4150-4963-8c52-62ac81c359d4",
   "metadata": {},
   "outputs": [],
   "source": [
    "dataset = clien_colle.find()\n",
    "dataset"
   ]
  },
  {
   "cell_type": "code",
   "execution_count": null,
   "id": "8afe59cc-08cb-47e9-ba20-53a3e416eac7",
   "metadata": {},
   "outputs": [],
   "source": [
    "# find() returns an iterable\n",
    "for data in dataset:\n",
    "    date = data['regis_date'].strftime('%x %X')\n",
    "    brands = \", \".join(data[\"brands\"])\n",
    "    \n",
    "    print(f'Name: {data[\"prod_name\"]}; Available Brands: {brands}; Register Date: {date}')"
   ]
  },
  {
   "cell_type": "markdown",
   "id": "37426b60-1f27-41bc-ae7b-52c0426c52ff",
   "metadata": {},
   "source": [
    "### Filtering the result"
   ]
  },
  {
   "cell_type": "markdown",
   "id": "12bbdbe8-46ad-475f-822e-09160ae0634b",
   "metadata": {},
   "source": [
    "#### Equality Filtering"
   ]
  },
  {
   "cell_type": "code",
   "execution_count": null,
   "id": "3549eab4-0bf1-4c18-93a8-a8ef94c0be35",
   "metadata": {},
   "outputs": [],
   "source": [
    "# Return documents where prod_name == laptop\n",
    "dataset = clien_colle.find({'prod_name': 'Laptop'})\n",
    "for data in dataset:\n",
    "    print(data)"
   ]
  },
  {
   "cell_type": "markdown",
   "id": "42be4c4f-56e5-4eff-8da9-e82016044bc5",
   "metadata": {},
   "source": [
    "#### IN condition"
   ]
  },
  {
   "cell_type": "code",
   "execution_count": null,
   "id": "cfe3d797-1ea6-4d08-9440-258d31d9c4eb",
   "metadata": {},
   "outputs": [],
   "source": [
    "# Return documents where prod_name == Laptop or == Smartphone\n",
    "dataset = clien_colle.find({'prod_name': {'$in': ['Laptop', 'Smartphone']}})\n",
    "for data in dataset:\n",
    "    print(data)"
   ]
  },
  {
   "cell_type": "markdown",
   "id": "f1a1677d-1627-486f-873c-890da4c043a5",
   "metadata": {},
   "source": [
    "#### OR condition"
   ]
  },
  {
   "cell_type": "code",
   "execution_count": null,
   "id": "74a9fe87-67bc-495c-9aee-2b96533f4c31",
   "metadata": {},
   "outputs": [],
   "source": [
    "# Return documents where prod_name == Laptop or brands array contains an element equals to Samsung\n",
    "dataset = clien_colle.find({'$or': [{'prod_name': 'Laptop'}, {'brands': 'Samsung'}]})\n",
    "for data in dataset:\n",
    "    print(data)"
   ]
  },
  {
   "cell_type": "markdown",
   "id": "abedad0d-8762-440f-9469-d271ed9d4d12",
   "metadata": {},
   "source": [
    "#### AND condition"
   ]
  },
  {
   "cell_type": "markdown",
   "id": "4c292702-d143-4980-831f-9eef2acfa8d5",
   "metadata": {},
   "source": [
    "Implicitly, a logical AND conjunction connects the clauses of a compound query so that the query selects the documents in the collection that match all the conditions."
   ]
  },
  {
   "cell_type": "code",
   "execution_count": null,
   "id": "cc83ad69-50b9-4486-899a-7f27356ab23e",
   "metadata": {},
   "outputs": [],
   "source": []
  }
 ],
 "metadata": {
  "kernelspec": {
   "display_name": "Python 3 (ipykernel)",
   "language": "python",
   "name": "python3"
  },
  "language_info": {
   "codemirror_mode": {
    "name": "ipython",
    "version": 3
   },
   "file_extension": ".py",
   "mimetype": "text/x-python",
   "name": "python",
   "nbconvert_exporter": "python",
   "pygments_lexer": "ipython3",
   "version": "3.9.7"
  }
 },
 "nbformat": 4,
 "nbformat_minor": 5
}
